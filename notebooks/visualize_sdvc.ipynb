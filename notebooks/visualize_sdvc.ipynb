{
 "cells": [
  {
   "cell_type": "code",
   "execution_count": 48,
   "metadata": {},
   "outputs": [],
   "source": [
    "import numpy as np\n",
    "import matplotlib.pyplot as plt\n",
    "from nyktools.utils import set_default_style\n",
    "import pandas as pd\n",
    "\n",
    "set_default_style()\n",
    "%matplotlib inline"
   ]
  },
  {
   "cell_type": "code",
   "execution_count": 2,
   "metadata": {},
   "outputs": [],
   "source": [
    "document_vector = np.load('/data/processed/raw_document_vector.npy')"
   ]
  },
  {
   "cell_type": "code",
   "execution_count": 3,
   "metadata": {},
   "outputs": [
    {
     "data": {
      "text/plain": [
       "(7376, 18000)"
      ]
     },
     "execution_count": 3,
     "metadata": {},
     "output_type": "execute_result"
    }
   ],
   "source": [
    "document_vector.shape\n",
    "\n",
    "vec_norm = np.linalg.norm(document_vector, axis=1)\n",
    "\n",
    "vec_norm = np.where(vec_norm > 0, vec_norm, 1.)\n",
    "\n",
    "document_vector /= vec_norm[:, None]\n",
    "\n",
    "p = 0.04\n",
    "\n",
    "a_min = document_vector.min(axis=1).mean()\n",
    "a_max = document_vector.max(axis=1).mean()\n",
    "\n",
    "a_min, a_max\n",
    "\n",
    "threshold = (abs(a_min) + abs(a_max)) / 2. * p\n",
    "\n",
    "threshold\n",
    "\n",
    "document_vector[abs(document_vector) < threshold] = .0\n",
    "\n",
    "document_vector.shape"
   ]
  },
  {
   "cell_type": "code",
   "execution_count": 4,
   "metadata": {},
   "outputs": [
    {
     "data": {
      "image/png": "[encoded data removed]",
      "text/plain": [
       "<Figure size 432x288 with 1 Axes>"
      ]
     },
     "metadata": {
      "needs_background": "light"
     },
     "output_type": "display_data"
    }
   ],
   "source": [
    "for v in document_vector[:10]:\n",
    "    plt.hist(v, bins=np.linspace(-.05, .05, 31))"
   ]
  },
  {
   "cell_type": "code",
   "execution_count": 12,
   "metadata": {},
   "outputs": [
    {
     "data": {
      "text/plain": [
       "(array([ 155.,  170.,  191.,  301.,  533.,  816., 1218., 2118., 5483.,\n",
       "        7015.]),\n",
       " array([0.00149132, 0.10119306, 0.20089479, 0.30059653, 0.40029826,\n",
       "        0.5       , 0.59970174, 0.69940347, 0.79910521, 0.89880694,\n",
       "        0.99850868]),\n",
       " <a list of 10 Patch objects>)"
      ]
     },
     "execution_count": 12,
     "metadata": {},
     "output_type": "execute_result"
    },
    {
     "data": {
      "image/png": "[encoded data removed]",
      "text/plain": [
       "<Figure size 432x288 with 1 Axes>"
      ]
     },
     "metadata": {
      "needs_background": "light"
     },
     "output_type": "display_data"
    }
   ],
   "source": [
    "plt.hist(np.sum(document_vector == 0, axis=0) / document_vector.shape[0])"
   ]
  },
  {
   "cell_type": "code",
   "execution_count": 13,
   "metadata": {},
   "outputs": [],
   "source": [
    "from nyktools.nlp.dataset import livedoor_news"
   ]
  },
  {
   "cell_type": "code",
   "execution_count": 31,
   "metadata": {},
   "outputs": [],
   "source": [
    "docs, labels = livedoor_news()\n",
    "\n",
    "labels = np.array(labels)"
   ]
  },
  {
   "cell_type": "code",
   "execution_count": 18,
   "metadata": {},
   "outputs": [],
   "source": [
    "top_docs = np.argmax(document_vector, axis=0)"
   ]
  },
  {
   "cell_type": "code",
   "execution_count": 20,
   "metadata": {},
   "outputs": [
    {
     "name": "stdout",
     "output_type": "stream",
     "text": [
      "it-life-hack\n",
      "dokujo-tsushin\n",
      "peachy\n",
      "kaden-channel\n",
      "dokujo-tsushin\n",
      "topic-news\n",
      "it-life-hack\n",
      "kaden-channel\n",
      "sports-watch\n",
      "topic-news\n"
     ]
    }
   ],
   "source": [
    "for i in top_docs[:10]:\n",
    "    print(labels[i])"
   ]
  },
  {
   "cell_type": "markdown",
   "metadata": {},
   "source": [
    "## 類似検索\n",
    "\n",
    "文章ベクトルのユークリッド距離で検索してみる"
   ]
  },
  {
   "cell_type": "code",
   "execution_count": 178,
   "metadata": {},
   "outputs": [
    {
     "name": "stdout",
     "output_type": "stream",
     "text": [
      "query label: sports-watch\n",
      "宮本恒靖氏、U-23日本代表に「リスクを冒さないとダメ」\n",
      "11日、国立競技場では、ロンドン五輪壮行試合＝キリンチャレンジカップ2012・U-23日本代表×U-23ニュージーランド代表の一戦が行われた。\n",
      "\n",
      "試合は、後半26分、徳永悠平が放ったミドルシュートを相手キーパー・グリーソンが弾いたところで杉本健勇がこぼれ球をゴールに蹴り込み、先制点を挙げる。だが、後半もロスタイムに入ると、日本はイージーミス\n"
     ]
    }
   ],
   "source": [
    "query_idx = 500\n",
    "\n",
    "print('query label: {}'.format(labels[query_idx]))\n",
    "print(docs[query_idx][:200])"
   ]
  },
  {
   "cell_type": "code",
   "execution_count": 179,
   "metadata": {},
   "outputs": [],
   "source": [
    "v_q = document_vector[query_idx]\n",
    "distance = np.linalg.norm(document_vector - v_q, axis=1)"
   ]
  },
  {
   "cell_type": "code",
   "execution_count": 180,
   "metadata": {},
   "outputs": [],
   "source": [
    "_df = pd.DataFrame()\n",
    "_df['labels'] = labels\n",
    "_df['headline'] = [doc.split('\\n')[0] for doc in docs]\n",
    "_df['distance'] = distance"
   ]
  },
  {
   "cell_type": "code",
   "execution_count": 181,
   "metadata": {},
   "outputs": [
    {
     "data": {
      "text/html": [
       "<div>\n",
       "<style scoped>\n",
       "    .dataframe tbody tr th:only-of-type {\n",
       "        vertical-align: middle;\n",
       "    }\n",
       "\n",
       "    .dataframe tbody tr th {\n",
       "        vertical-align: top;\n",
       "    }\n",
       "\n",
       "    .dataframe thead th {\n",
       "        text-align: right;\n",
       "    }\n",
       "</style>\n",
       "<table border=\"1\" class=\"dataframe\">\n",
       "  <thead>\n",
       "    <tr style=\"text-align: right;\">\n",
       "      <th></th>\n",
       "      <th>labels</th>\n",
       "      <th>headline</th>\n",
       "      <th>distance</th>\n",
       "    </tr>\n",
       "  </thead>\n",
       "  <tbody>\n",
       "    <tr>\n",
       "      <th>500</th>\n",
       "      <td>sports-watch</td>\n",
       "      <td>宮本恒靖氏、U-23日本代表に「リスクを冒さないとダメ」</td>\n",
       "      <td>0.000000</td>\n",
       "    </tr>\n",
       "    <tr>\n",
       "      <th>461</th>\n",
       "      <td>sports-watch</td>\n",
       "      <td>U-23日本代表、まさかのドロー。セルジオ氏は「まるで高校サッカーの決勝」</td>\n",
       "      <td>0.659019</td>\n",
       "    </tr>\n",
       "    <tr>\n",
       "      <th>263</th>\n",
       "      <td>sports-watch</td>\n",
       "      <td>″ご立腹″の松木氏、関塚監督の采配について苦言呈す</td>\n",
       "      <td>0.723584</td>\n",
       "    </tr>\n",
       "    <tr>\n",
       "      <th>39</th>\n",
       "      <td>sports-watch</td>\n",
       "      <td>【Sports Watch】日本代表、格下相手に引き分けも「収穫はあった」とキッパリ</td>\n",
       "      <td>0.765263</td>\n",
       "    </tr>\n",
       "    <tr>\n",
       "      <th>181</th>\n",
       "      <td>sports-watch</td>\n",
       "      <td>加藤浩次、不可解レフェリーに怒り心頭 「あんな笛見たことない」</td>\n",
       "      <td>0.791522</td>\n",
       "    </tr>\n",
       "    <tr>\n",
       "      <th>851</th>\n",
       "      <td>sports-watch</td>\n",
       "      <td>“日本の心臓”遠藤保仁の凄すぎるプレー、日本を救った1本のパスとは？</td>\n",
       "      <td>0.795824</td>\n",
       "    </tr>\n",
       "    <tr>\n",
       "      <th>22</th>\n",
       "      <td>sports-watch</td>\n",
       "      <td>日本がロンドン五輪出場。澤登正朗がオーバーエイジ枠に推したのは？</td>\n",
       "      <td>0.806352</td>\n",
       "    </tr>\n",
       "    <tr>\n",
       "      <th>784</th>\n",
       "      <td>sports-watch</td>\n",
       "      <td>【Sports Watch】試合から半月、対戦した吉田とテセが激闘の裏側を語る</td>\n",
       "      <td>0.809508</td>\n",
       "    </tr>\n",
       "    <tr>\n",
       "      <th>794</th>\n",
       "      <td>sports-watch</td>\n",
       "      <td>U-23日本代表快勝も、セルジオ越後氏「ロンドン五輪に行ったら恥をかくだけ」</td>\n",
       "      <td>0.817949</td>\n",
       "    </tr>\n",
       "    <tr>\n",
       "      <th>676</th>\n",
       "      <td>sports-watch</td>\n",
       "      <td>清水エスパルス、ラフプレー連発の韓国チームとの試合打ち切り</td>\n",
       "      <td>0.818147</td>\n",
       "    </tr>\n",
       "    <tr>\n",
       "      <th>522</th>\n",
       "      <td>sports-watch</td>\n",
       "      <td>【Sports Watch】李がなでしこ・丸山をダメ出し 「まだできる余地がある」</td>\n",
       "      <td>0.822058</td>\n",
       "    </tr>\n",
       "    <tr>\n",
       "      <th>7</th>\n",
       "      <td>sports-watch</td>\n",
       "      <td>【Sports Watch】セルジオ氏がバッサリ「全く収穫がない」</td>\n",
       "      <td>0.823967</td>\n",
       "    </tr>\n",
       "    <tr>\n",
       "      <th>137</th>\n",
       "      <td>sports-watch</td>\n",
       "      <td>「全く信頼されていない」韓国代表FWに批判の声</td>\n",
       "      <td>0.824535</td>\n",
       "    </tr>\n",
       "    <tr>\n",
       "      <th>164</th>\n",
       "      <td>sports-watch</td>\n",
       "      <td>【Sports Watch】日本代表、無得点ドローも「うまくいかなかった前半にポイントがある」</td>\n",
       "      <td>0.825946</td>\n",
       "    </tr>\n",
       "    <tr>\n",
       "      <th>606</th>\n",
       "      <td>sports-watch</td>\n",
       "      <td>あの中村俊輔すらも「和風メッシだ」と驚く新星、齋藤学</td>\n",
       "      <td>0.826273</td>\n",
       "    </tr>\n",
       "    <tr>\n",
       "      <th>67</th>\n",
       "      <td>sports-watch</td>\n",
       "      <td>【Sports Watch】本田圭佑「個人的には不本意なプレーだった」</td>\n",
       "      <td>0.826696</td>\n",
       "    </tr>\n",
       "    <tr>\n",
       "      <th>437</th>\n",
       "      <td>sports-watch</td>\n",
       "      <td>U-23日本代表、準決勝に散る。釜本氏は「メキシコは試合巧者」</td>\n",
       "      <td>0.827814</td>\n",
       "    </tr>\n",
       "    <tr>\n",
       "      <th>345</th>\n",
       "      <td>sports-watch</td>\n",
       "      <td>【Sports Watch】日本と激突!?　驚愕テクニックを持つ“女ジダン”</td>\n",
       "      <td>0.832334</td>\n",
       "    </tr>\n",
       "    <tr>\n",
       "      <th>723</th>\n",
       "      <td>sports-watch</td>\n",
       "      <td>日本代表ホームで完敗、北澤豪氏は「かなり危険な状態」</td>\n",
       "      <td>0.833288</td>\n",
       "    </tr>\n",
       "    <tr>\n",
       "      <th>462</th>\n",
       "      <td>sports-watch</td>\n",
       "      <td>“完勝”日本代表にも、北澤氏は「これ普通なんです」</td>\n",
       "      <td>0.833421</td>\n",
       "    </tr>\n",
       "  </tbody>\n",
       "</table>\n",
       "</div>"
      ],
      "text/plain": [
       "           labels                                         headline  distance\n",
       "500  sports-watch                     宮本恒靖氏、U-23日本代表に「リスクを冒さないとダメ」  0.000000\n",
       "461  sports-watch            U-23日本代表、まさかのドロー。セルジオ氏は「まるで高校サッカーの決勝」  0.659019\n",
       "263  sports-watch                        ″ご立腹″の松木氏、関塚監督の采配について苦言呈す  0.723584\n",
       "39   sports-watch       【Sports Watch】日本代表、格下相手に引き分けも「収穫はあった」とキッパリ  0.765263\n",
       "181  sports-watch                 加藤浩次、不可解レフェリーに怒り心頭 「あんな笛見たことない」   0.791522\n",
       "851  sports-watch               “日本の心臓”遠藤保仁の凄すぎるプレー、日本を救った1本のパスとは？  0.795824\n",
       "22   sports-watch                 日本がロンドン五輪出場。澤登正朗がオーバーエイジ枠に推したのは？  0.806352\n",
       "784  sports-watch          【Sports Watch】試合から半月、対戦した吉田とテセが激闘の裏側を語る  0.809508\n",
       "794  sports-watch           U-23日本代表快勝も、セルジオ越後氏「ロンドン五輪に行ったら恥をかくだけ」  0.817949\n",
       "676  sports-watch                    清水エスパルス、ラフプレー連発の韓国チームとの試合打ち切り  0.818147\n",
       "522  sports-watch        【Sports Watch】李がなでしこ・丸山をダメ出し 「まだできる余地がある」  0.822058\n",
       "7    sports-watch                【Sports Watch】セルジオ氏がバッサリ「全く収穫がない」  0.823967\n",
       "137  sports-watch                         「全く信頼されていない」韓国代表FWに批判の声   0.824535\n",
       "164  sports-watch  【Sports Watch】日本代表、無得点ドローも「うまくいかなかった前半にポイントがある」  0.825946\n",
       "606  sports-watch                       あの中村俊輔すらも「和風メッシだ」と驚く新星、齋藤学  0.826273\n",
       "67   sports-watch              【Sports Watch】本田圭佑「個人的には不本意なプレーだった」  0.826696\n",
       "437  sports-watch                  U-23日本代表、準決勝に散る。釜本氏は「メキシコは試合巧者」  0.827814\n",
       "345  sports-watch           【Sports Watch】日本と激突!?　驚愕テクニックを持つ“女ジダン”  0.832334\n",
       "723  sports-watch                       日本代表ホームで完敗、北澤豪氏は「かなり危険な状態」  0.833288\n",
       "462  sports-watch                        “完勝”日本代表にも、北澤氏は「これ普通なんです」  0.833421"
      ]
     },
     "execution_count": 181,
     "metadata": {},
     "output_type": "execute_result"
    }
   ],
   "source": [
    "_df.sort_values('distance').head(20)"
   ]
  },
  {
   "cell_type": "code",
   "execution_count": 145,
   "metadata": {},
   "outputs": [],
   "source": [
    "from sklearn.neighbors import KNeighborsClassifier\n",
    "from sklearn.preprocessing import LabelEncoder\n",
    "from sklearn.model_selection import StratifiedKFold"
   ]
  },
  {
   "cell_type": "code",
   "execution_count": 142,
   "metadata": {},
   "outputs": [],
   "source": [
    "y = LabelEncoder().fit_transform(labels)"
   ]
  },
  {
   "cell_type": "code",
   "execution_count": 146,
   "metadata": {},
   "outputs": [],
   "source": [
    "fold = StratifiedKFold(n_splits=5)"
   ]
  },
  {
   "cell_type": "code",
   "execution_count": 150,
   "metadata": {},
   "outputs": [],
   "source": [
    "y_oof_pred = np.zeros((len(y), len(np.unique(y))), dtype=np.float32)"
   ]
  },
  {
   "cell_type": "code",
   "execution_count": 151,
   "metadata": {},
   "outputs": [
    {
     "ename": "ValueError",
     "evalue": "shape mismatch: value array of shape (1481,9) could not be broadcast to indexing result of shape (1481,8)",
     "output_type": "error",
     "traceback": [
      "\u001b[0;31m---------------------------------------------------------------------------\u001b[0m",
      "\u001b[0;31mValueError\u001b[0m                                Traceback (most recent call last)",
      "\u001b[0;32m<ipython-input-151-b1811d006b9d>\u001b[0m in \u001b[0;36m<module>\u001b[0;34m\u001b[0m\n\u001b[1;32m      7\u001b[0m \u001b[0;34m\u001b[0m\u001b[0m\n\u001b[1;32m      8\u001b[0m     \u001b[0my_pred\u001b[0m \u001b[0;34m=\u001b[0m \u001b[0mclf\u001b[0m\u001b[0;34m.\u001b[0m\u001b[0mpredict_proba\u001b[0m\u001b[0;34m(\u001b[0m\u001b[0mx_valid\u001b[0m\u001b[0;34m)\u001b[0m\u001b[0;34m\u001b[0m\u001b[0m\n\u001b[0;32m----> 9\u001b[0;31m     \u001b[0my_oof_pred\u001b[0m\u001b[0;34m[\u001b[0m\u001b[0midx_valid\u001b[0m\u001b[0;34m]\u001b[0m \u001b[0;34m=\u001b[0m \u001b[0my_pred\u001b[0m\u001b[0;34m\u001b[0m\u001b[0m\n\u001b[0m",
      "\u001b[0;31mValueError\u001b[0m: shape mismatch: value array of shape (1481,9) could not be broadcast to indexing result of shape (1481,8)"
     ]
    }
   ],
   "source": [
    "for i, (idx_train, idx_valid) in enumerate(fold.split(document_vector, y)):\n",
    "    x_train, y_train = document_vector[idx_train], y[idx_train]\n",
    "    x_valid, y_valid = document_vector[idx_valid], y[idx_valid]\n",
    "\n",
    "    clf = KNeighborsClassifier(n_neighbors=10)\n",
    "    clf.fit(x_train, y_train)\n",
    "    \n",
    "    y_pred = clf.predict_proba(x_valid)\n",
    "    y_oof_pred[idx_valid] = y_pred"
   ]
  },
  {
   "cell_type": "code",
   "execution_count": 160,
   "metadata": {},
   "outputs": [],
   "source": [
    "from sklearn.metrics import accuracy_score, classification_report"
   ]
  },
  {
   "cell_type": "code",
   "execution_count": 163,
   "metadata": {},
   "outputs": [
    {
     "data": {
      "text/plain": [
       "array([7, 7, 7, ..., 5, 5, 5])"
      ]
     },
     "execution_count": 163,
     "metadata": {},
     "output_type": "execute_result"
    }
   ],
   "source": [
    "y_valid"
   ]
  },
  {
   "cell_type": "code",
   "execution_count": 172,
   "metadata": {},
   "outputs": [
    {
     "data": {
      "text/plain": [
       "0.699527346387576"
      ]
     },
     "execution_count": 172,
     "metadata": {},
     "output_type": "execute_result"
    }
   ],
   "source": [
    "accuracy_score(y_valid, y_pred.argmax(axis=1))"
   ]
  },
  {
   "cell_type": "code",
   "execution_count": 173,
   "metadata": {},
   "outputs": [
    {
     "data": {
      "text/html": [
       "<div>\n",
       "<style scoped>\n",
       "    .dataframe tbody tr th:only-of-type {\n",
       "        vertical-align: middle;\n",
       "    }\n",
       "\n",
       "    .dataframe tbody tr th {\n",
       "        vertical-align: top;\n",
       "    }\n",
       "\n",
       "    .dataframe thead th {\n",
       "        text-align: right;\n",
       "    }\n",
       "</style>\n",
       "<table border=\"1\" class=\"dataframe\">\n",
       "  <thead>\n",
       "    <tr style=\"text-align: right;\">\n",
       "      <th></th>\n",
       "      <th>0</th>\n",
       "      <th>1</th>\n",
       "      <th>2</th>\n",
       "      <th>3</th>\n",
       "      <th>4</th>\n",
       "      <th>5</th>\n",
       "      <th>6</th>\n",
       "      <th>7</th>\n",
       "      <th>8</th>\n",
       "      <th>macro avg</th>\n",
       "      <th>micro avg</th>\n",
       "      <th>weighted avg</th>\n",
       "    </tr>\n",
       "  </thead>\n",
       "  <tbody>\n",
       "    <tr>\n",
       "      <th>f1-score</th>\n",
       "      <td>0.683371</td>\n",
       "      <td>0.732782</td>\n",
       "      <td>0.465116</td>\n",
       "      <td>0.560386</td>\n",
       "      <td>0.818414</td>\n",
       "      <td>0.622378</td>\n",
       "      <td>0.756098</td>\n",
       "      <td>0.861035</td>\n",
       "      <td>0.605809</td>\n",
       "      <td>0.678377</td>\n",
       "      <td>0.699527</td>\n",
       "      <td>0.686348</td>\n",
       "    </tr>\n",
       "    <tr>\n",
       "      <th>precision</th>\n",
       "      <td>0.568182</td>\n",
       "      <td>0.707447</td>\n",
       "      <td>0.705882</td>\n",
       "      <td>0.557692</td>\n",
       "      <td>0.740741</td>\n",
       "      <td>0.760684</td>\n",
       "      <td>0.659574</td>\n",
       "      <td>0.849462</td>\n",
       "      <td>0.848837</td>\n",
       "      <td>0.710945</td>\n",
       "      <td>0.699527</td>\n",
       "      <td>0.716899</td>\n",
       "    </tr>\n",
       "    <tr>\n",
       "      <th>recall</th>\n",
       "      <td>0.857143</td>\n",
       "      <td>0.760000</td>\n",
       "      <td>0.346821</td>\n",
       "      <td>0.563107</td>\n",
       "      <td>0.914286</td>\n",
       "      <td>0.526627</td>\n",
       "      <td>0.885714</td>\n",
       "      <td>0.872928</td>\n",
       "      <td>0.470968</td>\n",
       "      <td>0.688622</td>\n",
       "      <td>0.699527</td>\n",
       "      <td>0.699527</td>\n",
       "    </tr>\n",
       "    <tr>\n",
       "      <th>support</th>\n",
       "      <td>175.000000</td>\n",
       "      <td>175.000000</td>\n",
       "      <td>173.000000</td>\n",
       "      <td>103.000000</td>\n",
       "      <td>175.000000</td>\n",
       "      <td>169.000000</td>\n",
       "      <td>175.000000</td>\n",
       "      <td>181.000000</td>\n",
       "      <td>155.000000</td>\n",
       "      <td>1481.000000</td>\n",
       "      <td>1481.000000</td>\n",
       "      <td>1481.000000</td>\n",
       "    </tr>\n",
       "  </tbody>\n",
       "</table>\n",
       "</div>"
      ],
      "text/plain": [
       "                    0           1           2           3           4  \\\n",
       "f1-score     0.683371    0.732782    0.465116    0.560386    0.818414   \n",
       "precision    0.568182    0.707447    0.705882    0.557692    0.740741   \n",
       "recall       0.857143    0.760000    0.346821    0.563107    0.914286   \n",
       "support    175.000000  175.000000  173.000000  103.000000  175.000000   \n",
       "\n",
       "                    5           6           7           8    macro avg  \\\n",
       "f1-score     0.622378    0.756098    0.861035    0.605809     0.678377   \n",
       "precision    0.760684    0.659574    0.849462    0.848837     0.710945   \n",
       "recall       0.526627    0.885714    0.872928    0.470968     0.688622   \n",
       "support    169.000000  175.000000  181.000000  155.000000  1481.000000   \n",
       "\n",
       "             micro avg  weighted avg  \n",
       "f1-score      0.699527      0.686348  \n",
       "precision     0.699527      0.716899  \n",
       "recall        0.699527      0.699527  \n",
       "support    1481.000000   1481.000000  "
      ]
     },
     "execution_count": 173,
     "metadata": {},
     "output_type": "execute_result"
    }
   ],
   "source": [
    "report_dict = classification_report(y_valid, y_pred.argmax(axis=1), output_dict=True)\n",
    "pd.DataFrame(report_dict)"
   ]
  },
  {
   "cell_type": "code",
   "execution_count": null,
   "metadata": {},
   "outputs": [],
   "source": []
  }
 ],
 "metadata": {
  "kernelspec": {
   "display_name": "Python 3",
   "language": "python",
   "name": "python3"
  },
  "language_info": {
   "codemirror_mode": {
    "name": "ipython",
    "version": 3
   },
   "file_extension": ".py",
   "mimetype": "text/x-python",
   "name": "python",
   "nbconvert_exporter": "python",
   "pygments_lexer": "ipython3",
   "version": "3.5.2"
  }
 },
 "nbformat": 4,
 "nbformat_minor": 2
}
